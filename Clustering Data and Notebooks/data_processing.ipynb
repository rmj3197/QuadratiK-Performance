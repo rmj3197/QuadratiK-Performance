{
 "cells": [
  {
   "cell_type": "markdown",
   "metadata": {},
   "source": [
    "# R Time for Clustering"
   ]
  },
  {
   "cell_type": "code",
   "execution_count": null,
   "metadata": {},
   "outputs": [],
   "source": [
    "\n",
    "import pandas as pd\n",
    "\n",
    "time_r_df = pd.read_csv('Time_in_R.csv')\n",
    "stats_r = time_r_df.groupby(['Dataset'])['ComputationTime'].describe().round(3)\n",
    "stats_r['IQR'] = stats_r['75%'] - stats_r['25%']"
   ]
  },
  {
   "cell_type": "code",
   "execution_count": null,
   "metadata": {},
   "outputs": [],
   "source": [
    "stats_r"
   ]
  },
  {
   "cell_type": "markdown",
   "metadata": {},
   "source": [
    "# Python Time for Clustering"
   ]
  },
  {
   "cell_type": "code",
   "execution_count": null,
   "metadata": {},
   "outputs": [],
   "source": [
    "\n",
    "import numpy as np\n",
    "time_py_df = pd.DataFrame(np.genfromtxt(\"Time_in_Python.csv\", delimiter=\"\", dtype=None, encoding=None))\n",
    "\n",
    "time_py_df.columns = ['Iteration','Dataset','Algorithm','ARI','V Measure','Macro Precision','Macro Recall','Number of Rows','Number of Columns','Computation Time (seconds)','K']\n",
    "stats_py = time_py_df.groupby(['Dataset'])['Computation Time (seconds)'].describe().round(3)\n",
    "stats_py['IQR'] = stats_py['75%'] - stats_py['25%']"
   ]
  },
  {
   "cell_type": "code",
   "execution_count": null,
   "metadata": {},
   "outputs": [],
   "source": [
    "stats_py"
   ]
  }
 ],
 "metadata": {
  "kernelspec": {
   "display_name": "base",
   "language": "python",
   "name": "python3"
  },
  "language_info": {
   "codemirror_mode": {
    "name": "ipython",
    "version": 3
   },
   "file_extension": ".py",
   "mimetype": "text/x-python",
   "name": "python",
   "nbconvert_exporter": "python",
   "pygments_lexer": "ipython3",
   "version": "3.10.12"
  }
 },
 "nbformat": 4,
 "nbformat_minor": 2
}
