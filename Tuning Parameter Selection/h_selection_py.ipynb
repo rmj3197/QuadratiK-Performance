{
 "cells": [
  {
   "cell_type": "markdown",
   "metadata": {},
   "source": [
    "# Time for selecting h in Python "
   ]
  },
  {
   "cell_type": "code",
   "execution_count": null,
   "metadata": {},
   "outputs": [],
   "source": [
    "from QuadratiK.kernel_test import select_h\n",
    "import numpy as np\n",
    "import scipy as sp\n",
    "import time\n",
    "import pandas as pd"
   ]
  },
  {
   "cell_type": "markdown",
   "metadata": {},
   "source": [
    "$X \\sim N(\\mu = 0, \\Sigma = 1), Y \\sim SN(\\mu = 0, \\Sigma = 1, \\lambda = 0.5)$"
   ]
  },
  {
   "cell_type": "code",
   "execution_count": null,
   "metadata": {},
   "outputs": [],
   "source": [
    "h_selected_list = []\n",
    "all_powers_list = []\n",
    "elapsed_times = []  # List to store the elapsed times for each iteration\n",
    "\n",
    "for i in range(10):\n",
    "    X = np.random.randn(200, 4)\n",
    "    Y = sp.stats.skewnorm.rvs(a = 0.5, size=(200, 4))\n",
    "    \n",
    "    start_time = time.time()  # Start timer\n",
    "    h_selected, all_powers = select_h(x=X, y=Y, alternative=\"skewness\", power_plot=False)\n",
    "    end_time = time.time()  # End timer\n",
    "    \n",
    "    elapsed_time = end_time - start_time  # Compute elapsed time\n",
    "    \n",
    "    # Append the results\n",
    "    h_selected_list.append(h_selected)\n",
    "    all_powers_list.append(all_powers)\n",
    "    elapsed_times.append(elapsed_time)  # Store the elapsed time\n",
    "    \n",
    "    print(f\"Iteration {i+1} took {elapsed_time:.4f} seconds\")\n",
    "\n",
    "# Create a DataFrame with the elapsed times and iteration numbers\n",
    "df_times_case1 = pd.DataFrame({\n",
    "    'Case': ['alpha = 0.5' for i in range(10)],  # Case description\n",
    "    'Iteration': [i + 1 for i in range(10)],  # Iteration numbers\n",
    "    'Time (seconds)': elapsed_times  # Corresponding times\n",
    "})"
   ]
  },
  {
   "cell_type": "markdown",
   "metadata": {},
   "source": [
    "$X \\sim N(\\mu = 0, \\Sigma = 1), Y \\sim SN(\\mu = 0, \\Sigma = 1, \\lambda = 0.05)$"
   ]
  },
  {
   "cell_type": "code",
   "execution_count": null,
   "metadata": {},
   "outputs": [],
   "source": [
    "h_selected_list = []\n",
    "all_powers_list = []\n",
    "elapsed_times = []  # List to store the elapsed times for each iteration\n",
    "\n",
    "for i in range(10):\n",
    "    X = np.random.randn(200, 4)\n",
    "    Y = sp.stats.skewnorm.rvs(a = 0.05, size=(200, 4))\n",
    "    \n",
    "    start_time = time.time()  # Start timer\n",
    "    h_selected, all_powers = select_h(x=X, y=Y, alternative=\"skewness\", power_plot=False, n_jobs=8)\n",
    "    end_time = time.time()  # End timer\n",
    "    \n",
    "    elapsed_time = end_time - start_time  # Compute elapsed time\n",
    "    \n",
    "    # Append the results\n",
    "    h_selected_list.append(h_selected)\n",
    "    all_powers_list.append(all_powers)\n",
    "    elapsed_times.append(elapsed_time)  # Store the elapsed time\n",
    "    \n",
    "    print(f\"Iteration {i+1} took {elapsed_time:.4f} seconds\")\n",
    "\n",
    "# Create a DataFrame with the elapsed times and iteration numbers\n",
    "df_times_case2 = pd.DataFrame({\n",
    "    'Case': ['alpha = 0.05' for i in range(10)],  # Case description\n",
    "    'Iteration': [i + 1 for i in range(10)],  # Iteration numbers\n",
    "    'Time (seconds)': elapsed_times  # Corresponding times\n",
    "})"
   ]
  },
  {
   "cell_type": "code",
   "execution_count": null,
   "metadata": {},
   "outputs": [],
   "source": [
    "merged_df = pd.concat([df_times_case1, df_times_case2], ignore_index=True)  \n",
    "merged_df.to_csv(\"h_selection_time_in_Python.csv\", index=False)  # Save the DataFrame to a CSV file"
   ]
  },
  {
   "cell_type": "code",
   "execution_count": null,
   "metadata": {},
   "outputs": [],
   "source": [
    "merged_df"
   ]
  }
 ],
 "metadata": {
  "kernelspec": {
   "display_name": "base",
   "language": "python",
   "name": "python3"
  },
  "language_info": {
   "codemirror_mode": {
    "name": "ipython",
    "version": 3
   },
   "file_extension": ".py",
   "mimetype": "text/x-python",
   "name": "python",
   "nbconvert_exporter": "python",
   "pygments_lexer": "ipython3",
   "version": "3.10.12"
  }
 },
 "nbformat": 4,
 "nbformat_minor": 2
}
