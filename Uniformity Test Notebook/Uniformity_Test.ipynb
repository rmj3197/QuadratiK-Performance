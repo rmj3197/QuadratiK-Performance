{
 "cells": [
  {
   "cell_type": "markdown",
   "metadata": {},
   "source": [
    "# System Specifications"
   ]
  },
  {
   "cell_type": "code",
   "execution_count": null,
   "metadata": {},
   "outputs": [],
   "source": [
    "# Taken from - https://stackoverflow.com/questions/3103178/how-to-get-the-system-info-with-python\n",
    "\n",
    "import platform,socket,re,uuid,json,psutil,logging\n",
    "\n",
    "def getSystemInfo():\n",
    "    try:\n",
    "        info={}\n",
    "        info['platform']=platform.system()\n",
    "        info['platform-release']=platform.release()\n",
    "        info['platform-version']=platform.version()\n",
    "        info['architecture']=platform.machine()\n",
    "        info['hostname']=socket.gethostname()\n",
    "        info['ip-address']=socket.gethostbyname(socket.gethostname())\n",
    "        info['mac-address']=':'.join(re.findall('..', '%012x' % uuid.getnode()))\n",
    "        info['processor']=platform.processor()\n",
    "        info['ram']=str(round(psutil.virtual_memory().total / (1024.0 **3)))+\" GB\"\n",
    "        return json.dumps(info)\n",
    "    except Exception as e:\n",
    "        logging.exception(e)\n",
    "\n",
    "json.loads(getSystemInfo())"
   ]
  },
  {
   "cell_type": "markdown",
   "metadata": {},
   "source": [
    "# Uniformity Test"
   ]
  },
  {
   "cell_type": "code",
   "execution_count": null,
   "metadata": {},
   "outputs": [],
   "source": [
    "import numpy as np\n",
    "import pandas as pd\n",
    "import QuadratiK\n",
    "from QuadratiK.spherical_clustering import PKBD\n",
    "from QuadratiK.poisson_kernel_test import PoissonKernelTest\n",
    "from QuadratiK.tools import sample_hypersphere\n",
    "\n",
    "# File to store results\n",
    "csv_filename = \"Uniformity_Test_Results.csv\"\n",
    "\n",
    "# Number of iterations\n",
    "num_iterations = 10\n",
    "\n",
    "for iteration in range(num_iterations):\n",
    "    results = []\n",
    "    for n in [10000, 5000, 1000, 100]:\n",
    "        for d in [10, 5, 3]:\n",
    "            print(f\"Iteration {iteration + 1}, n = {n}, d = {d}\")\n",
    "            random_samples = sample_hypersphere(n, d, random_state=42)\n",
    "            unif_test = PoissonKernelTest(rho=0.7, n_jobs=4, num_iter=300).test(random_samples)\n",
    "            results.append({\n",
    "                'iteration': iteration + 1,\n",
    "                'n': n,\n",
    "                'd': d,\n",
    "                'computation_time': unif_test.execution_time\n",
    "            })\n",
    "            print(f\"Iteration {iteration + 1}, n = {n}, d = {d}, Computation time = {unif_test.execution_time}\")\n",
    "    \n",
    "    # Convert to DataFrame and save to CSV\n",
    "    df = pd.DataFrame(results)\n",
    "    df.to_csv(csv_filename, mode='a', header=not pd.io.common.file_exists(csv_filename), index=False)\n"
   ]
  }
 ],
 "metadata": {
  "kernelspec": {
   "display_name": "py312",
   "language": "python",
   "name": "python3"
  },
  "language_info": {
   "codemirror_mode": {
    "name": "ipython",
    "version": 3
   },
   "file_extension": ".py",
   "mimetype": "text/x-python",
   "name": "python",
   "nbconvert_exporter": "python",
   "pygments_lexer": "ipython3",
   "version": "3.12.9"
  }
 },
 "nbformat": 4,
 "nbformat_minor": 2
}
